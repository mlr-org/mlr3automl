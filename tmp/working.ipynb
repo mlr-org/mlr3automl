{
 "cells": [
  {
   "cell_type": "code",
   "execution_count": 2,
   "metadata": {},
   "outputs": [
    {
     "data": {
      "text/plain": [
       "9"
      ]
     },
     "execution_count": 2,
     "metadata": {},
     "output_type": "execute_result"
    }
   ],
   "source": [
    "from typing import List, Optional, Tuple, Union\n",
    "\n",
    "import numpy as np\n",
    "from ConfigSpace.hyperparameters import (\n",
    "    CategoricalHyperparameter,\n",
    "    Constant,\n",
    "    Hyperparameter\n",
    ")\n",
    "from ConfigSpace import Configuration\n",
    "from sklearn.ensemble import RandomForestRegressor\n",
    "from sklearn.manifold import MDS\n",
    "from tqdm import tqdm\n",
    "\n",
    "from deepcave.constants import BORDER_CONFIG_ID, RANDOM_CONFIG_ID\n",
    "from deepcave.runs import AbstractRun, Status\n",
    "from deepcave.runs.objective import Objective\n",
    "from deepcave.utils.configspace import sample_border_config, sample_random_config\n",
    "from deepcave.utils.logs import get_logger\n",
    "\n",
    "from deepcave.runs.converters.deepcave import DeepCAVERun\n",
    "from deepcave.evaluators.footprint import Footprint\n",
    "from pathlib import Path\n",
    "\n",
    "run = DeepCAVERun.from_path(Path(\"run/run\"))\n",
    "fp = Footprint(run)\n",
    "fp._get_max_distance()"
   ]
  },
  {
   "cell_type": "code",
   "execution_count": 11,
   "metadata": {},
   "outputs": [
    {
     "name": "stderr",
     "output_type": "stream",
     "text": [
      "  0%|          | 0/21 [00:00<?, ?it/s]"
     ]
    },
    {
     "name": "stderr",
     "output_type": "stream",
     "text": [
      "100%|██████████| 21/21 [00:00<00:00, 4283.86it/s]"
     ]
    },
    {
     "name": "stdout",
     "output_type": "stream",
     "text": [
      "deepcave.evaluators.footprint (INFO): Added 21 configurations.\n",
      "deepcave.evaluators.footprint (INFO): Starting to calculate distances and add border and random configurations...\n",
      "deepcave.evaluators.footprint (INFO): Found 100 configurations...\n",
      "deepcave.evaluators.footprint (INFO): Added 47 border configs and 80 random configs.\n",
      "deepcave.evaluators.footprint (INFO): Total configurations: 148.\n",
      "deepcave.evaluators.footprint (INFO): Getting MDS data...\n"
     ]
    },
    {
     "name": "stderr",
     "output_type": "stream",
     "text": [
      "\n"
     ]
    },
    {
     "name": "stdout",
     "output_type": "stream",
     "text": [
      "deepcave.evaluators.footprint (INFO): Training on objective...\n",
      "deepcave.evaluators.footprint (INFO): Training on area...\n"
     ]
    }
   ],
   "source": [
    "objective = run.get_objective(0)\n",
    "fp.calculate(objective, 0)"
   ]
  },
  {
   "cell_type": "code",
   "execution_count": 15,
   "metadata": {},
   "outputs": [
    {
     "data": {
      "text/plain": [
       "array([[0.        , 0.28473744, 0.78447494, 0.27957941],\n",
       "       [0.28473744, 0.        , 0.4997375 , 0.15755803],\n",
       "       [0.78447494, 0.4997375 , 0.        , 0.50489552],\n",
       "       [0.27957941, 0.15755803, 0.50489552, 0.        ]])"
      ]
     },
     "execution_count": 15,
     "metadata": {},
     "output_type": "execute_result"
    }
   ],
   "source": [
    "fp._distances[0:4, 0:4]"
   ]
  }
 ],
 "metadata": {
  "kernelspec": {
   "display_name": "DeepCAVE",
   "language": "python",
   "name": "python3"
  },
  "language_info": {
   "codemirror_mode": {
    "name": "ipython",
    "version": 3
   },
   "file_extension": ".py",
   "mimetype": "text/x-python",
   "name": "python",
   "nbconvert_exporter": "python",
   "pygments_lexer": "ipython3",
   "version": "3.9.19"
  }
 },
 "nbformat": 4,
 "nbformat_minor": 2
}
